{
 "cells": [
  {
   "cell_type": "code",
   "execution_count": 1,
   "id": "4c99c5ee-728a-4c55-811e-35d88faa9ec1",
   "metadata": {},
   "outputs": [],
   "source": [
    "import pandas as pd\n",
    "import numpy as np\n",
    "from sklearn.feature_extraction.text import TfidfVectorizer\n",
    "from sklearn.metrics.pairwise import linear_kernel"
   ]
  },
  {
   "cell_type": "code",
   "execution_count": 2,
   "id": "4414fc3f-9219-4032-b893-e24dd0998cf2",
   "metadata": {},
   "outputs": [],
   "source": [
    "df_books = pd.read_csv(\"data/books_data/books.csv\",nrows=100,sep=\",\",encoding='utf-8', on_bad_lines='skip',skip_blank_lines=True)"
   ]
  },
  {
   "cell_type": "code",
   "execution_count": 3,
   "id": "c71db7a3-692f-4aa8-acb4-aa9496d16ba6",
   "metadata": {},
   "outputs": [
    {
     "data": {
      "text/html": [
       "<div>\n",
       "<style scoped>\n",
       "    .dataframe tbody tr th:only-of-type {\n",
       "        vertical-align: middle;\n",
       "    }\n",
       "\n",
       "    .dataframe tbody tr th {\n",
       "        vertical-align: top;\n",
       "    }\n",
       "\n",
       "    .dataframe thead th {\n",
       "        text-align: right;\n",
       "    }\n",
       "</style>\n",
       "<table border=\"1\" class=\"dataframe\">\n",
       "  <thead>\n",
       "    <tr style=\"text-align: right;\">\n",
       "      <th></th>\n",
       "      <th>ISBN</th>\n",
       "      <th>Book-Title</th>\n",
       "      <th>Book-Author</th>\n",
       "      <th>Year-Of-Publication</th>\n",
       "      <th>Publisher</th>\n",
       "      <th>Image-URL-S</th>\n",
       "      <th>Image-URL-M</th>\n",
       "      <th>Image-URL-L</th>\n",
       "    </tr>\n",
       "  </thead>\n",
       "  <tbody>\n",
       "    <tr>\n",
       "      <th>0</th>\n",
       "      <td>195153448</td>\n",
       "      <td>Classical Mythology</td>\n",
       "      <td>Mark P. O. Morford</td>\n",
       "      <td>2002</td>\n",
       "      <td>Oxford University Press</td>\n",
       "      <td>http://images.amazon.com/images/P/0195153448.0...</td>\n",
       "      <td>http://images.amazon.com/images/P/0195153448.0...</td>\n",
       "      <td>http://images.amazon.com/images/P/0195153448.0...</td>\n",
       "    </tr>\n",
       "    <tr>\n",
       "      <th>1</th>\n",
       "      <td>2005018</td>\n",
       "      <td>Clara Callan</td>\n",
       "      <td>Richard Bruce Wright</td>\n",
       "      <td>2001</td>\n",
       "      <td>HarperFlamingo Canada</td>\n",
       "      <td>http://images.amazon.com/images/P/0002005018.0...</td>\n",
       "      <td>http://images.amazon.com/images/P/0002005018.0...</td>\n",
       "      <td>http://images.amazon.com/images/P/0002005018.0...</td>\n",
       "    </tr>\n",
       "    <tr>\n",
       "      <th>2</th>\n",
       "      <td>60973129</td>\n",
       "      <td>Decision in Normandy</td>\n",
       "      <td>Carlo D'Este</td>\n",
       "      <td>1991</td>\n",
       "      <td>HarperPerennial</td>\n",
       "      <td>http://images.amazon.com/images/P/0060973129.0...</td>\n",
       "      <td>http://images.amazon.com/images/P/0060973129.0...</td>\n",
       "      <td>http://images.amazon.com/images/P/0060973129.0...</td>\n",
       "    </tr>\n",
       "    <tr>\n",
       "      <th>3</th>\n",
       "      <td>374157065</td>\n",
       "      <td>Flu: The Story of the Great Influenza Pandemic...</td>\n",
       "      <td>Gina Bari Kolata</td>\n",
       "      <td>1999</td>\n",
       "      <td>Farrar Straus Giroux</td>\n",
       "      <td>http://images.amazon.com/images/P/0374157065.0...</td>\n",
       "      <td>http://images.amazon.com/images/P/0374157065.0...</td>\n",
       "      <td>http://images.amazon.com/images/P/0374157065.0...</td>\n",
       "    </tr>\n",
       "    <tr>\n",
       "      <th>4</th>\n",
       "      <td>393045218</td>\n",
       "      <td>The Mummies of Urumchi</td>\n",
       "      <td>E. J. W. Barber</td>\n",
       "      <td>1999</td>\n",
       "      <td>W. W. Norton &amp;amp; Company</td>\n",
       "      <td>http://images.amazon.com/images/P/0393045218.0...</td>\n",
       "      <td>http://images.amazon.com/images/P/0393045218.0...</td>\n",
       "      <td>http://images.amazon.com/images/P/0393045218.0...</td>\n",
       "    </tr>\n",
       "  </tbody>\n",
       "</table>\n",
       "</div>"
      ],
      "text/plain": [
       "        ISBN                                         Book-Title  \\\n",
       "0  195153448                                Classical Mythology   \n",
       "1    2005018                                       Clara Callan   \n",
       "2   60973129                               Decision in Normandy   \n",
       "3  374157065  Flu: The Story of the Great Influenza Pandemic...   \n",
       "4  393045218                             The Mummies of Urumchi   \n",
       "\n",
       "            Book-Author  Year-Of-Publication                   Publisher  \\\n",
       "0    Mark P. O. Morford                 2002     Oxford University Press   \n",
       "1  Richard Bruce Wright                 2001       HarperFlamingo Canada   \n",
       "2          Carlo D'Este                 1991             HarperPerennial   \n",
       "3      Gina Bari Kolata                 1999        Farrar Straus Giroux   \n",
       "4       E. J. W. Barber                 1999  W. W. Norton &amp; Company   \n",
       "\n",
       "                                         Image-URL-S  \\\n",
       "0  http://images.amazon.com/images/P/0195153448.0...   \n",
       "1  http://images.amazon.com/images/P/0002005018.0...   \n",
       "2  http://images.amazon.com/images/P/0060973129.0...   \n",
       "3  http://images.amazon.com/images/P/0374157065.0...   \n",
       "4  http://images.amazon.com/images/P/0393045218.0...   \n",
       "\n",
       "                                         Image-URL-M  \\\n",
       "0  http://images.amazon.com/images/P/0195153448.0...   \n",
       "1  http://images.amazon.com/images/P/0002005018.0...   \n",
       "2  http://images.amazon.com/images/P/0060973129.0...   \n",
       "3  http://images.amazon.com/images/P/0374157065.0...   \n",
       "4  http://images.amazon.com/images/P/0393045218.0...   \n",
       "\n",
       "                                         Image-URL-L  \n",
       "0  http://images.amazon.com/images/P/0195153448.0...  \n",
       "1  http://images.amazon.com/images/P/0002005018.0...  \n",
       "2  http://images.amazon.com/images/P/0060973129.0...  \n",
       "3  http://images.amazon.com/images/P/0374157065.0...  \n",
       "4  http://images.amazon.com/images/P/0393045218.0...  "
      ]
     },
     "execution_count": 3,
     "metadata": {},
     "output_type": "execute_result"
    }
   ],
   "source": [
    "df_books.head()"
   ]
  },
  {
   "cell_type": "code",
   "execution_count": 4,
   "id": "860ab518-19e8-489a-947d-4c255cb3e21d",
   "metadata": {},
   "outputs": [
    {
     "data": {
      "text/plain": [
       "0                                   Classical Mythology\n",
       "1                                          Clara Callan\n",
       "2                                  Decision in Normandy\n",
       "3     Flu: The Story of the Great Influenza Pandemic...\n",
       "4                                The Mummies of Urumchi\n",
       "                            ...                        \n",
       "95                            Pretend You Don't See Her\n",
       "96                                           Fast Women\n",
       "97                                  Female Intelligence\n",
       "98        Pasquale's Nose: Idle Days in an Italian Town\n",
       "99                         The Gospel of Judas: A Novel\n",
       "Name: Book-Title, Length: 100, dtype: object"
      ]
     },
     "execution_count": 4,
     "metadata": {},
     "output_type": "execute_result"
    }
   ],
   "source": [
    "df_books['Book-Title']"
   ]
  },
  {
   "cell_type": "markdown",
   "id": "f6e0ae73-c1dc-4d40-ac60-70732f709531",
   "metadata": {
    "jp-MarkdownHeadingCollapsed": true
   },
   "source": [
    "Declare the stop words: words that dont count in a language"
   ]
  },
  {
   "cell_type": "code",
   "execution_count": 7,
   "id": "9c8281b8-cdca-48c9-a857-73819106d2a5",
   "metadata": {},
   "outputs": [],
   "source": [
    "tfidf = TfidfVectorizer(stop_words='english')"
   ]
  },
  {
   "cell_type": "markdown",
   "id": "b881b384-c2dc-4c5f-aa13-45617c227953",
   "metadata": {},
   "source": [
    "Fill all empty columns with empty stings"
   ]
  },
  {
   "cell_type": "code",
   "execution_count": 5,
   "id": "9dbe27cf-0bf7-48e2-bc65-461753570071",
   "metadata": {},
   "outputs": [],
   "source": [
    "df_books['Book-Title'] = df_books['Book-Title'].fillna('')"
   ]
  },
  {
   "cell_type": "markdown",
   "id": "d837f442-44e8-4ba0-88c0-a23dadb2b9e5",
   "metadata": {},
   "source": [
    "Build the vector space model matrix of all the words for the movies dataframe"
   ]
  },
  {
   "cell_type": "code",
   "execution_count": 8,
   "id": "2710cb16-420e-441e-a03c-5f98fb34c309",
   "metadata": {},
   "outputs": [],
   "source": [
    "tfidf_matrix = tfidf.fit_transform(df_books['Book-Title'])"
   ]
  },
  {
   "cell_type": "markdown",
   "id": "53fb141d-64af-4c69-879d-ca5f6f6ebdcb",
   "metadata": {},
   "source": [
    "Develop the linear kernel that will be used to calculate the cosine similarity"
   ]
  },
  {
   "cell_type": "code",
   "execution_count": 9,
   "id": "ee1fe523-6dc2-44ea-aeb3-5c8c91bc5aa7",
   "metadata": {},
   "outputs": [],
   "source": [
    "cosine_sim = linear_kernel(tfidf_matrix, tfidf_matrix)"
   ]
  },
  {
   "cell_type": "markdown",
   "id": "1c793c6f-b21f-45e0-bdc4-aab8c9ac168a",
   "metadata": {},
   "source": [
    "Extract the indices from the df"
   ]
  },
  {
   "cell_type": "code",
   "execution_count": 10,
   "id": "963b0a85-a70a-4f88-9d82-11001fa967b8",
   "metadata": {},
   "outputs": [
    {
     "data": {
      "text/plain": [
       "Book-Title\n",
       "Classical Mythology                                                                                    0\n",
       "Clara Callan                                                                                           1\n",
       "Decision in Normandy                                                                                   2\n",
       "Flu: The Story of the Great Influenza Pandemic of 1918 and the Search for the Virus That Caused It     3\n",
       "The Mummies of Urumchi                                                                                 4\n",
       "                                                                                                      ..\n",
       "Pretend You Don't See Her                                                                             95\n",
       "Fast Women                                                                                            96\n",
       "Female Intelligence                                                                                   97\n",
       "Pasquale's Nose: Idle Days in an Italian Town                                                         98\n",
       "The Gospel of Judas: A Novel                                                                          99\n",
       "Length: 100, dtype: int64"
      ]
     },
     "execution_count": 10,
     "metadata": {},
     "output_type": "execute_result"
    }
   ],
   "source": [
    "indices = pd.Series(df_books.index, index=df_books['Book-Title'])\n",
    "indices"
   ]
  },
  {
   "cell_type": "code",
   "execution_count": 11,
   "id": "65b001ff-e391-4c05-ae48-3d59bb8b97e0",
   "metadata": {},
   "outputs": [
    {
     "data": {
      "text/plain": [
       "96"
      ]
     },
     "execution_count": 11,
     "metadata": {},
     "output_type": "execute_result"
    }
   ],
   "source": [
    "indices['Fast Women']"
   ]
  },
  {
   "cell_type": "markdown",
   "id": "59707871-8f5a-402f-8127-70689ee7ae5c",
   "metadata": {},
   "source": [
    "Function to get the recommendations"
   ]
  },
  {
   "cell_type": "code",
   "execution_count": 25,
   "id": "76608404-e243-473f-933d-d52646b4ef6c",
   "metadata": {},
   "outputs": [],
   "source": [
    "def get_recommendations(title, cosine_sim = cosine_sim):\n",
    "    index = indices[title]\n",
    "    similarity_scores = enumerate(cosine_sim[index])\n",
    "    similarity_scores = sorted(similarity_scores, key = lambda x:x[1], reverse=True)\n",
    "    #similarity_scores = similarity_scores[1:11]\n",
    "    similarity_scores_index = [i[0] for i in similarity_scores]\n",
    "    recommendations = df_books[\"Book-Title\"].iloc[similarity_scores_index]\n",
    "    print( recommendations )\n",
    "    return recommendations.to_json()"
   ]
  },
  {
   "cell_type": "code",
   "execution_count": 26,
   "id": "d239e0e6-d816-4d72-8155-0a9bc16c72d5",
   "metadata": {},
   "outputs": [
    {
     "name": "stdout",
     "output_type": "stream",
     "text": [
      "96                                           Fast Women\n",
      "0                                   Classical Mythology\n",
      "1                                          Clara Callan\n",
      "2                                  Decision in Normandy\n",
      "3     Flu: The Story of the Great Influenza Pandemic...\n",
      "                            ...                        \n",
      "94    Midnight in the Garden of Good and Evil: A Sav...\n",
      "95                            Pretend You Don't See Her\n",
      "97                                  Female Intelligence\n",
      "98        Pasquale's Nose: Idle Days in an Italian Town\n",
      "99                         The Gospel of Judas: A Novel\n",
      "Name: Book-Title, Length: 100, dtype: object\n"
     ]
    },
    {
     "data": {
      "text/plain": [
       "'{\"96\":\"Fast Women\",\"0\":\"Classical Mythology\",\"1\":\"Clara Callan\",\"2\":\"Decision in Normandy\",\"3\":\"Flu: The Story of the Great Influenza Pandemic of 1918 and the Search for the Virus That Caused It\",\"4\":\"The Mummies of Urumchi\",\"5\":\"The Kitchen God\\'s Wife\",\"6\":\"What If?: The World\\'s Foremost Military Historians Imagine What Might Have Been\",\"7\":\"PLEADING GUILTY\",\"8\":\"Under the Black Flag: The Romance and the Reality of Life Among the Pirates\",\"9\":\"Where You\\'ll Find Me: And Other Stories\",\"10\":\"Nights Below Station Street\",\"11\":\"Hitler\\'s Secret Bankers: The Myth of Swiss Neutrality During the Holocaust\",\"12\":\"The Middle Stories\",\"13\":\"Jane Doe\",\"14\":\"A Second Chicken Soup for the Woman\\'s Soul (Chicken Soup for the Soul Series)\",\"15\":\"The Witchfinder (Amos Walker Mystery Series)\",\"16\":\"More Cunning Than Man: A Social History of Rats and Man\",\"17\":\"Goodbye to the Buttermilk Sky\",\"18\":\"The Testament\",\"19\":\"Beloved (Plume Contemporary Fiction)\",\"20\":\"Our Dumb Century: The Onion Presents 100 Years of Headlines from America\\'s Finest News Source\",\"21\":\"New Vegetarian: Bold and Beautiful Recipes for Every Occasion\",\"22\":\"If I\\'d Known Then What I Know Now: Why Not Learn from the Mistakes of Others? : You Can\\'t Afford to Make Them All Yourself\",\"23\":\"Mary-Kate &amp; Ashley Switching Goals (Mary-Kate and Ashley Starring in)\",\"24\":\"Tell Me This Isn\\'t Happening\",\"25\":\"Flood : Mississippi 1927\",\"26\":\"Wild Animus\",\"27\":\"Airframe\",\"28\":\"Timeline\",\"29\":\"OUT OF THE SILENT PLANET\",\"30\":\"Prague : A Novel\",\"31\":\"Chocolate Jesus\",\"32\":\"Wie Barney es sieht.\",\"33\":\"Der Fluch der Kaiserin. Ein Richter- Di- Roman.\",\"34\":\"Sturmzeit. Roman.\",\"35\":\"Tage der Unschuld.\",\"36\":\"Lying Awake\",\"37\":\"To Kill a Mockingbird\",\"38\":\"Seabiscuit: An American Legend\",\"39\":\"Pigs in Heaven\",\"40\":\"Miss Zukas and the Raven\\'s Dance\",\"41\":\"Pride and Prejudice\",\"42\":\"The Therapeutic Touch: How to Use Your Hands to Help or to Heal\",\"43\":\"Downtown\",\"44\":\"Icebound\",\"45\":\"I\\'ll Be Seeing You\",\"46\":\"From the Corner of His Eye\",\"47\":\"Isle of Dogs\",\"48\":\"Purity in Death\",\"49\":\"This Year It Will Be Different: And Other Stories\",\"50\":\"Proxies\",\"51\":\"Left Behind: A Novel of the Earth\\'s Last Days (Left Behind #1)\",\"52\":\"The Street Lawyer\",\"53\":\"Love, Medicine and Miracles\",\"54\":\"All the King\\'s Men\",\"55\":\"Pacific Northwest\",\"56\":\"A Soldier of the Great War\",\"57\":\"Getting Well Again\",\"58\":\"Northwest Wines and Wineries\",\"59\":\"An Atmosphere of Eternity: Stories of India\",\"60\":\"LONESOME DOVE\",\"61\":\"Shabanu: Daughter of the Wind (Border Trilogy)\",\"62\":\"Haveli (Laurel Leaf Books)\",\"63\":\"Lieux dits\",\"64\":\"The Dragons of Eden: Speculations on the Evolution of Human Intelligence\",\"65\":\"The yawning heights\",\"66\":\"Breathing Lessons\",\"67\":\"The Joy Luck Club\",\"68\":\"Heart of Darkness (Wordsworth Collection)\",\"69\":\"The Angel Is Near\",\"70\":\"Tess of the D\\'Urbervilles (Wordsworth Classics)\",\"71\":\"The Adventures of Drew and Ellie: The Magical Dress\",\"72\":\"The Accidental Virgin\",\"73\":\"The Tao of Pooh\",\"74\":\"Seabiscuit\",\"75\":\"The Prince\",\"76\":\"Life\\'s Little Instruction Book (Life\\'s Little Instruction Books (Paperback))\",\"77\":\"Starship Troopers\",\"78\":\"The Ruby in the Smoke (Sally Lockhart Trilogy, Book 1)\",\"79\":\"Black Beauty (Illustrated Classics)\",\"80\":\"Anil\\'s Ghost\",\"81\":\"Prescription for Terror\",\"82\":\"Modern Manners: An Etiquette Book for Rude People\",\"83\":\"Turning Thirty\",\"84\":\"Decipher\",\"85\":\"My First Cousin Once Removed: Money, Madness, and the Family of Robert Lowell\",\"86\":\"Standing Firm: A Vice-Presidential Memoir\",\"87\":\"Team Bush : Leadership Lessons from the Bush White House\",\"88\":\"The Right Man : The Surprise Presidency of George W. Bush\",\"89\":\"Daybreakers Louis Lamour Collection\",\"90\":\"The Catcher in the Rye\",\"91\":\"El Senor De Los Anillos: LA Comunidad Del Anillo (Lord of the Rings (Spanish))\",\"92\":\"El Senor De Los Anillos: Las DOS Torres (Lord of the Rings (Paperback))\",\"93\":\"El Senor De Los Anillos: El Retorno Del Rey (Tolkien, J. R. R. Lord of the Rings. 3.)\",\"94\":\"Midnight in the Garden of Good and Evil: A Savannah Story\",\"95\":\"Pretend You Don\\'t See Her\",\"97\":\"Female Intelligence\",\"98\":\"Pasquale\\'s Nose: Idle Days in an Italian Town\",\"99\":\"The Gospel of Judas: A Novel\"}'"
      ]
     },
     "execution_count": 26,
     "metadata": {},
     "output_type": "execute_result"
    }
   ],
   "source": [
    "get_recommendations('Fast Women')"
   ]
  },
  {
   "cell_type": "code",
   "execution_count": 16,
   "id": "657f79da-0cfe-4dca-9f53-e6d2c405cc51",
   "metadata": {},
   "outputs": [
    {
     "name": "stdout",
     "output_type": "stream",
     "text": [
      "0                                   Classical Mythology\n",
      "1                                          Clara Callan\n",
      "2                                  Decision in Normandy\n",
      "3     Flu: The Story of the Great Influenza Pandemic...\n",
      "4                                The Mummies of Urumchi\n",
      "                            ...                        \n",
      "95                            Pretend You Don't See Her\n",
      "96                                           Fast Women\n",
      "97                                  Female Intelligence\n",
      "98        Pasquale's Nose: Idle Days in an Italian Town\n",
      "99                         The Gospel of Judas: A Novel\n",
      "Name: Book-Title, Length: 100, dtype: object\n"
     ]
    }
   ],
   "source": [
    "get_recommendations('Classical Mythology')"
   ]
  }
 ],
 "metadata": {
  "kernelspec": {
   "display_name": "Python 3 (ipykernel)",
   "language": "python",
   "name": "python3"
  },
  "language_info": {
   "codemirror_mode": {
    "name": "ipython",
    "version": 3
   },
   "file_extension": ".py",
   "mimetype": "text/x-python",
   "name": "python",
   "nbconvert_exporter": "python",
   "pygments_lexer": "ipython3",
   "version": "3.10.6"
  }
 },
 "nbformat": 4,
 "nbformat_minor": 5
}
