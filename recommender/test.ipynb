{
 "cells": [
  {
   "cell_type": "code",
   "execution_count": 33,
   "id": "4c99c5ee-728a-4c55-811e-35d88faa9ec1",
   "metadata": {},
   "outputs": [],
   "source": [
    "import pandas as pd\n",
    "import numpy as np\n",
    "from sklearn.feature_extraction.text import TfidfVectorizer\n",
    "from sklearn.metrics.pairwise import linear_kernel"
   ]
  },
  {
   "cell_type": "code",
   "execution_count": 97,
   "id": "4414fc3f-9219-4032-b893-e24dd0998cf2",
   "metadata": {},
   "outputs": [],
   "source": [
    "df_movies = pd.read_csv('archive/tmdb_5000_movies.csv')"
   ]
  },
  {
   "cell_type": "code",
   "execution_count": 96,
   "id": "c71db7a3-692f-4aa8-acb4-aa9496d16ba6",
   "metadata": {},
   "outputs": [
    {
     "data": {
      "text/plain": [
       "(4803, 20)"
      ]
     },
     "execution_count": 96,
     "metadata": {},
     "output_type": "execute_result"
    }
   ],
   "source": [
    "df_movies.shape"
   ]
  },
  {
   "cell_type": "code",
   "execution_count": 11,
   "id": "860ab518-19e8-489a-947d-4c255cb3e21d",
   "metadata": {},
   "outputs": [
    {
     "data": {
      "text/plain": [
       "0       In the 22nd century, a paraplegic Marine is di...\n",
       "1       Captain Barbossa, long believed to be dead, ha...\n",
       "2       A cryptic message from Bond’s past sends him o...\n",
       "3       Following the death of District Attorney Harve...\n",
       "4       John Carter is a war-weary, former military ca...\n",
       "                              ...                        \n",
       "4798    El Mariachi just wants to play his guitar and ...\n",
       "4799    A newlywed couple's honeymoon is upended by th...\n",
       "4800    \"Signed, Sealed, Delivered\" introduces a dedic...\n",
       "4801    When ambitious New York attorney Sam is sent t...\n",
       "4802    Ever since the second grade when he first saw ...\n",
       "Name: overview, Length: 4803, dtype: object"
      ]
     },
     "execution_count": 11,
     "metadata": {},
     "output_type": "execute_result"
    }
   ],
   "source": [
    "df_movies['overview']"
   ]
  },
  {
   "cell_type": "markdown",
   "id": "f6e0ae73-c1dc-4d40-ac60-70732f709531",
   "metadata": {
    "jp-MarkdownHeadingCollapsed": true
   },
   "source": [
    "Declare the stop words: words that dont count in a language"
   ]
  },
  {
   "cell_type": "code",
   "execution_count": 18,
   "id": "9c8281b8-cdca-48c9-a857-73819106d2a5",
   "metadata": {},
   "outputs": [],
   "source": [
    "tfidf = TfidfVectorizer(stop_words='english')"
   ]
  },
  {
   "cell_type": "markdown",
   "id": "b881b384-c2dc-4c5f-aa13-45617c227953",
   "metadata": {},
   "source": [
    "Fill all empty columns with empty stings"
   ]
  },
  {
   "cell_type": "code",
   "execution_count": 24,
   "id": "9dbe27cf-0bf7-48e2-bc65-461753570071",
   "metadata": {},
   "outputs": [],
   "source": [
    "df_movies['overview'] = df_movies['overview'].fillna('')"
   ]
  },
  {
   "cell_type": "markdown",
   "id": "d837f442-44e8-4ba0-88c0-a23dadb2b9e5",
   "metadata": {},
   "source": [
    "Build the vector space model matrix of all the words for the movies dataframe"
   ]
  },
  {
   "cell_type": "code",
   "execution_count": 28,
   "id": "2710cb16-420e-441e-a03c-5f98fb34c309",
   "metadata": {},
   "outputs": [],
   "source": [
    "tfidf_matrix = tfidf.fit_transform(df_movies['overview'])"
   ]
  },
  {
   "cell_type": "markdown",
   "id": "53fb141d-64af-4c69-879d-ca5f6f6ebdcb",
   "metadata": {},
   "source": [
    "Develop the linear kernel that will be used to calculate the cosine similarity"
   ]
  },
  {
   "cell_type": "code",
   "execution_count": 35,
   "id": "ee1fe523-6dc2-44ea-aeb3-5c8c91bc5aa7",
   "metadata": {},
   "outputs": [],
   "source": [
    "cosine_sim = linear_kernel(tfidf_matrix, tfidf_matrix)"
   ]
  },
  {
   "cell_type": "markdown",
   "id": "1c793c6f-b21f-45e0-bdc4-aab8c9ac168a",
   "metadata": {},
   "source": [
    "Extract the indices from the df"
   ]
  },
  {
   "cell_type": "code",
   "execution_count": 39,
   "id": "963b0a85-a70a-4f88-9d82-11001fa967b8",
   "metadata": {},
   "outputs": [
    {
     "data": {
      "text/plain": [
       "original_title\n",
       "Avatar                                         0\n",
       "Pirates of the Caribbean: At World's End       1\n",
       "Spectre                                        2\n",
       "The Dark Knight Rises                          3\n",
       "John Carter                                    4\n",
       "                                            ... \n",
       "El Mariachi                                 4798\n",
       "Newlyweds                                   4799\n",
       "Signed, Sealed, Delivered                   4800\n",
       "Shanghai Calling                            4801\n",
       "My Date with Drew                           4802\n",
       "Length: 4803, dtype: int64"
      ]
     },
     "execution_count": 39,
     "metadata": {},
     "output_type": "execute_result"
    }
   ],
   "source": [
    "indices = pd.Series(df_movies.index, index=df_movies['original_title'])\n",
    "indices"
   ]
  },
  {
   "cell_type": "code",
   "execution_count": 41,
   "id": "65b001ff-e391-4c05-ae48-3d59bb8b97e0",
   "metadata": {},
   "outputs": [
    {
     "data": {
      "text/plain": [
       "4799"
      ]
     },
     "execution_count": 41,
     "metadata": {},
     "output_type": "execute_result"
    }
   ],
   "source": [
    "indices['Newlyweds']"
   ]
  },
  {
   "cell_type": "markdown",
   "id": "59707871-8f5a-402f-8127-70689ee7ae5c",
   "metadata": {},
   "source": [
    "Function to get the recommendations"
   ]
  },
  {
   "cell_type": "code",
   "execution_count": 93,
   "id": "76608404-e243-473f-933d-d52646b4ef6c",
   "metadata": {},
   "outputs": [],
   "source": [
    "def get_recommendations(title, cosine_sim = cosine_sim):\n",
    "    index = indices[title]\n",
    "    similarity_scores = enumerate(cosine_sim[index])\n",
    "    similarity_scores = sorted(similarity_scores, key = lambda x:x[1], reverse=True)\n",
    "    #similarity_scores = similarity_scores[1:11]\n",
    "    similarity_scores_index = [i[0] for i in similarity_scores]\n",
    "    print( df_movies[\"original_title\"].iloc[similarity_scores_index] )"
   ]
  },
  {
   "cell_type": "code",
   "execution_count": 94,
   "id": "d239e0e6-d816-4d72-8155-0a9bc16c72d5",
   "metadata": {},
   "outputs": [
    {
     "name": "stdout",
     "output_type": "stream",
     "text": [
      "3       The Dark Knight Rises\n",
      "65            The Dark Knight\n",
      "299            Batman Forever\n",
      "428            Batman Returns\n",
      "1359                   Batman\n",
      "                ...          \n",
      "4795                     Bang\n",
      "4796                   Primer\n",
      "4797                   Cavite\n",
      "4798              El Mariachi\n",
      "4799                Newlyweds\n",
      "Name: original_title, Length: 4803, dtype: object\n"
     ]
    }
   ],
   "source": [
    "get_recommendations('The Dark Knight Rises')"
   ]
  },
  {
   "cell_type": "code",
   "execution_count": 95,
   "id": "657f79da-0cfe-4dca-9f53-e6d2c405cc51",
   "metadata": {},
   "outputs": [
    {
     "name": "stdout",
     "output_type": "stream",
     "text": [
      "4799                    Newlyweds\n",
      "3969             Something Wicked\n",
      "616                         Ted 2\n",
      "2689           Our Family Wedding\n",
      "1576                   Bride Wars\n",
      "                  ...            \n",
      "4797                       Cavite\n",
      "4798                  El Mariachi\n",
      "4800    Signed, Sealed, Delivered\n",
      "4801             Shanghai Calling\n",
      "4802            My Date with Drew\n",
      "Name: original_title, Length: 4803, dtype: object\n"
     ]
    }
   ],
   "source": [
    "get_recommendations('Newlyweds')"
   ]
  },
  {
   "cell_type": "code",
   "execution_count": null,
   "id": "f00f1c86-c39b-4241-82da-fdb66267f4bd",
   "metadata": {},
   "outputs": [],
   "source": []
  },
  {
   "cell_type": "code",
   "execution_count": null,
   "id": "f35f4db6-a64f-453e-b2d8-c7815352620c",
   "metadata": {},
   "outputs": [],
   "source": []
  },
  {
   "cell_type": "code",
   "execution_count": null,
   "id": "928084aa-e725-4c36-bb1b-bfa8472b4afc",
   "metadata": {},
   "outputs": [],
   "source": []
  }
 ],
 "metadata": {
  "kernelspec": {
   "display_name": "Python 3 (ipykernel)",
   "language": "python",
   "name": "python3"
  },
  "language_info": {
   "codemirror_mode": {
    "name": "ipython",
    "version": 3
   },
   "file_extension": ".py",
   "mimetype": "text/x-python",
   "name": "python",
   "nbconvert_exporter": "python",
   "pygments_lexer": "ipython3",
   "version": "3.10.6"
  }
 },
 "nbformat": 4,
 "nbformat_minor": 5
}
